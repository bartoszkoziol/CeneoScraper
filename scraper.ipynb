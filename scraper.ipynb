{
 "cells": [
  {
   "cell_type": "markdown",
   "metadata": {},
   "source": [
    "### Import bibliotek\n"
   ]
  },
  {
   "cell_type": "code",
   "execution_count": 5,
   "metadata": {},
   "outputs": [],
   "source": [
    "import requests\n",
    "from bs4 import BeautifulSoup"
   ]
  },
  {
   "cell_type": "markdown",
   "metadata": {},
   "source": [
    "### Wysyłanie żądania dostępu do strony internetowej z opiniami o prsodukcie"
   ]
  },
  {
   "cell_type": "code",
   "execution_count": 11,
   "metadata": {},
   "outputs": [
    {
     "data": {
      "text/plain": [
       "200"
      ]
     },
     "execution_count": 11,
     "metadata": {},
     "output_type": "execute_result"
    }
   ],
   "source": [
    "url = \"https://www.ceneo.pl/84514582#tab=reviews\"\n",
    "response = requests.get(url)\n",
    "response.status_code"
   ]
  },
  {
   "cell_type": "markdown",
   "metadata": {},
   "source": [
    "Jeżeli operacja zakończy się powodzeniem, wyodrębnienie z kodu strony opinii o produkcie"
   ]
  },
  {
   "cell_type": "code",
   "execution_count": 12,
   "metadata": {},
   "outputs": [],
   "source": [
    "if response.status_code == 200:\n",
    "    page_dom = BeautifulSoup(response.text, \"html.parser\")\n",
    "    opinions = page_dom.select(\"div.js_product-review:not(.user-post--highlight)\")"
   ]
  },
  {
   "cell_type": "markdown",
   "metadata": {},
   "source": [
    "Dla każdej opinii wyodrębnienie z kodu HTML poszczególnych składowych i przypisanie ich do elementów złożonej struktury danych"
   ]
  },
  {
   "cell_type": "code",
   "execution_count": 29,
   "metadata": {},
   "outputs": [],
   "source": [
    "for opinion in opinions:\n",
    "    try:\n",
    "        single_opinion = {\n",
    "            \"author\": opinion.select_one(\"span.user-post__author-name\").text.strip(),\n",
    "            \"recommendation\": opinion.select_one(\"span.user-post__author-recomendation > em\").text.strip(),\n",
    "            \"stars\": opinion.select_one(\"div.js_product-review\").text.strip(),\n",
    "            \"content\": opinion.select_one(\"div.user-post__text\").text.strip(),\n",
    "            \"pros\": [p.text.strip() for p in opinion.select_one(\"div.review-feature__item--positive\")],\n",
    "            \"cons\": [c.text.strip() for c in opinion.select_one(\"div.review-feature__item--negative\")],\n",
    "            \"useful\": opinion.select_one(\"button.vote-yes > span\").text.strip(),\n",
    "            \"unuseful\": opinion.select_one(\"button.vote-no > span\").text.strip(),\n",
    "            \"post_date\": opinion.select_one(\"span.user-post__published > time:nth-child(1)\")['datetime'].strip(),\n",
    "            \"purchase_date\": opinion.select_one(\"span.user-post__published > time:nth-child(2)\")['datetime'].strip()\n",
    "        }\n",
    "        print(single_opinion)\n",
    "    except (AttributeError, TypeError):\n",
    "        pass\n"
   ]
  }
 ],
 "metadata": {
  "kernelspec": {
   "display_name": ".venv",
   "language": "python",
   "name": "python3"
  },
  "language_info": {
   "codemirror_mode": {
    "name": "ipython",
    "version": 3
   },
   "file_extension": ".py",
   "mimetype": "text/x-python",
   "name": "python",
   "nbconvert_exporter": "python",
   "pygments_lexer": "ipython3",
   "version": "3.12.7"
  }
 },
 "nbformat": 4,
 "nbformat_minor": 2
}
